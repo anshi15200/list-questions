{
  "nbformat": 4,
  "nbformat_minor": 0,
  "metadata": {
    "colab": {
      "provenance": []
    },
    "kernelspec": {
      "name": "python3",
      "display_name": "Python 3"
    },
    "language_info": {
      "name": "python"
    }
  },
  "cells": [
    {
      "cell_type": "code",
      "execution_count": null,
      "metadata": {
        "id": "xgsmudZCxb9D"
      },
      "outputs": [],
      "source": []
    },
    {
      "cell_type": "markdown",
      "source": [
        "Q1. What is the syntax for adding an element to a list in Python?"
      ],
      "metadata": {
        "id": "2d3q0jSKxcte"
      }
    },
    {
      "cell_type": "markdown",
      "source": [
        "In Python, we can add an element to a list using the append() method or using the concatenation operator +"
      ],
      "metadata": {
        "id": "ODy-Teo0xicY"
      }
    },
    {
      "cell_type": "markdown",
      "source": [
        "Q2. What is the difference between remove() and pop() functions in Python?"
      ],
      "metadata": {
        "id": "zThCNv3Hxw5F"
      }
    },
    {
      "cell_type": "code",
      "source": [
        "remove(): This function removes the first occurrence of a specified value from the list.\n",
        "pop(): This function removes the element at a specified index from the list and returns the removed element"
      ],
      "metadata": {
        "id": "B25bFQAvx0vL"
      },
      "execution_count": null,
      "outputs": []
    },
    {
      "cell_type": "markdown",
      "source": [
        "Q3. Write a Python code to sort a list in descending order."
      ],
      "metadata": {
        "id": "B2bhIAkcx75c"
      }
    },
    {
      "cell_type": "code",
      "source": [
        "my_list = [3, 1, 4, 2, 5]\n",
        "my_list.sort(reverse=True)\n",
        "print(my_list)\n"
      ],
      "metadata": {
        "colab": {
          "base_uri": "https://localhost:8080/"
        },
        "id": "tuzqIpwyx_ge",
        "outputId": "54b2ac72-9ed1-40ed-f891-9625d1778680"
      },
      "execution_count": 1,
      "outputs": [
        {
          "output_type": "stream",
          "name": "stdout",
          "text": [
            "[5, 4, 3, 2, 1]\n"
          ]
        }
      ]
    },
    {
      "cell_type": "markdown",
      "source": [
        "Q4. Write a Python code to count the number of occurrences of an element in a list."
      ],
      "metadata": {
        "id": "zkD213b9yEw9"
      }
    },
    {
      "cell_type": "code",
      "source": [
        "my_list = [1, 2, 3, 4, 1, 1, 5, 1]\n",
        "element_to_count = 1\n",
        "occurrences = my_list.count(element_to_count)\n",
        "print(\"Number of occurrences of\", element_to_count, \":\", occurrences)\n"
      ],
      "metadata": {
        "colab": {
          "base_uri": "https://localhost:8080/"
        },
        "id": "3Dwbokza2jIx",
        "outputId": "b12ee073-9685-4b2c-cbf0-2a623227c732"
      },
      "execution_count": 2,
      "outputs": [
        {
          "output_type": "stream",
          "name": "stdout",
          "text": [
            "Number of occurrences of 1 : 4\n"
          ]
        }
      ]
    },
    {
      "cell_type": "markdown",
      "source": [
        "Q5. Write a Python code to reverse a list."
      ],
      "metadata": {
        "id": "WJZibwTcyZam"
      }
    },
    {
      "cell_type": "code",
      "source": [
        "my_list = [1, 2, 3, 4, 5]\n",
        "reversed_list = my_list[::-1]\n",
        "print(reversed_list)\n"
      ],
      "metadata": {
        "colab": {
          "base_uri": "https://localhost:8080/"
        },
        "id": "osCno_cX3CAJ",
        "outputId": "fc323a23-c045-4df5-9bad-2d4f9cc87c58"
      },
      "execution_count": 3,
      "outputs": [
        {
          "output_type": "stream",
          "name": "stdout",
          "text": [
            "[5, 4, 3, 2, 1]\n"
          ]
        }
      ]
    }
  ]
}